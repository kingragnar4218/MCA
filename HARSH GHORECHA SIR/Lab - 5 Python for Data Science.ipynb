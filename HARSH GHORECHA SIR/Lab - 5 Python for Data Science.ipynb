{
 "cells": [
  {
   "cell_type": "markdown",
   "id": "75aeb745-1e50-418b-9ffe-0f115296a458",
   "metadata": {},
   "source": [
    "<a href='https://www.darshan.ac.in/'> <img src='https://www.darshan.ac.in/Content/media/DU_Logo.svg' width=\"150\" height=\"200\"/></a>\n",
    "<pre>\n",
    "<center><b><h2> Python for Data Science - 2305CS303 </b></center>\n",
    "<center><b><h2>Lab - 5</b></center>    \n",
    "<left><b><h3>Roll No. : 106 </b></left>  \n",
    "<left><b><h3>Name : Ghorecha Harsh</b></left>   \n",
    "<pre>    "
   ]
  },
  {
   "cell_type": "markdown",
   "id": "4775ea51-e4f7-4bec-9066-34d55f26f638",
   "metadata": {},
   "source": [
    "### 1. WAP to find sum of all the elements in a List."
   ]
  },
  {
   "cell_type": "code",
   "execution_count": 6,
   "id": "0c129df0-0199-4a6d-b363-a27435769ab1",
   "metadata": {},
   "outputs": [
    {
     "name": "stdout",
     "output_type": "stream",
     "text": [
      "Sum of elements:  15\n"
     ]
    }
   ],
   "source": [
    "l1 = [1,2,3,4,5]\n",
    "sum = 0\n",
    "for i in l1:\n",
    "    sum = sum + i\n",
    "print(\"Sum of elements: \",sum)"
   ]
  },
  {
   "cell_type": "markdown",
   "id": "08e8af17-4ef1-4734-8cdf-6f8d0675ff7e",
   "metadata": {},
   "source": [
    "### 2. WAP to find largest element in a List.\n"
   ]
  },
  {
   "cell_type": "code",
   "execution_count": 34,
   "id": "cdeedbc3-c526-441f-85a9-045360caa446",
   "metadata": {},
   "outputs": [
    {
     "name": "stdout",
     "output_type": "stream",
     "text": [
      "18\n"
     ]
    }
   ],
   "source": [
    "l1 = [1,18,7,2,3]\n",
    "larg = l1[0]\n",
    "for i in l1:\n",
    "    if larg < i:\n",
    "        larg = i\n",
    "\n",
    "print(larg)\n",
    "    "
   ]
  },
  {
   "cell_type": "markdown",
   "id": "c2c54c21-abe2-439f-bc8e-5a43be7c5031",
   "metadata": {},
   "source": [
    "### 3. WAP to interchange first and last elements in a list."
   ]
  },
  {
   "cell_type": "code",
   "execution_count": 50,
   "id": "97bac1f7-f69e-4ab4-9df4-aa392ced129a",
   "metadata": {},
   "outputs": [
    {
     "data": {
      "text/plain": [
       "[4, 2, 3, 1]"
      ]
     },
     "execution_count": 50,
     "metadata": {},
     "output_type": "execute_result"
    }
   ],
   "source": [
    "l1 = [1,2,3,4]\n",
    "l1[0], l1[3] = l1[3], l1[0]\n",
    "l1\n"
   ]
  },
  {
   "cell_type": "markdown",
   "id": "ddf54203-47cb-425c-b118-3318148c2571",
   "metadata": {},
   "source": [
    "### 4. WAP to reverse the list entered by user."
   ]
  },
  {
   "cell_type": "code",
   "execution_count": 70,
   "id": "4c2be11a-7014-4c84-8dff-097f6edeaa25",
   "metadata": {},
   "outputs": [
    {
     "name": "stdin",
     "output_type": "stream",
     "text": [
      "Enter element :  1\n",
      "Enter element :  2\n",
      "Enter element :  3\n",
      "Enter element :  4\n",
      "Enter element :  5\n"
     ]
    },
    {
     "name": "stdout",
     "output_type": "stream",
     "text": [
      "Orignal list :  [1, 2, 3, 4, 5]\n",
      "Reverse list [5, 4, 3, 2, 1]\n"
     ]
    }
   ],
   "source": [
    "l1=[]\n",
    "for i in range(5):\n",
    "    l1.append(int(input(\"Enter element : \")))\n",
    "\n",
    "print(\"Orignal list : \",l1)\n",
    "\n",
    "print(\"Reverse list\",l1[::-1])"
   ]
  },
  {
   "cell_type": "markdown",
   "id": "a90ecdf6-9f21-4b25-ace0-6083c311dddf",
   "metadata": {},
   "source": [
    "### 5. WAP to print even numbers in a list.\n"
   ]
  },
  {
   "cell_type": "code",
   "execution_count": 44,
   "id": "cb16a8ae-2d76-4e3c-8fac-ce9583e77ecf",
   "metadata": {},
   "outputs": [
    {
     "data": {
      "text/plain": [
       "[2, 4, 6, 8, 10, 12, 14, 16, 18, 20]"
      ]
     },
     "execution_count": 44,
     "metadata": {},
     "output_type": "execute_result"
    }
   ],
   "source": [
    "l1 = [i*2 for i in range(1,11,)]\n",
    "l1"
   ]
  },
  {
   "cell_type": "markdown",
   "id": "e7b02e28-8b48-4644-8451-160e19cc5873",
   "metadata": {},
   "source": [
    "### 6. WAP to count occurrences of an element in a list."
   ]
  },
  {
   "cell_type": "code",
   "execution_count": 73,
   "id": "104f1bb6-0725-4187-aaa2-ce4f9ec6ff81",
   "metadata": {},
   "outputs": [
    {
     "name": "stdout",
     "output_type": "stream",
     "text": [
      "3\n"
     ]
    }
   ],
   "source": [
    "l1 = [1,18,18,18,2,3,4,5]\n",
    "count = 0\n",
    "ele = 18\n",
    "for i in l1:\n",
    "    if i == ele:\n",
    "        count += 1\n",
    "\n",
    "print(count)"
   ]
  },
  {
   "cell_type": "markdown",
   "id": "940463e7-3ef5-47eb-b206-37822161d9a8",
   "metadata": {},
   "source": [
    "### 7. WAP to extract elements with frequency greater than K."
   ]
  },
  {
   "cell_type": "code",
   "execution_count": 86,
   "id": "7d493bed-10d9-4544-bcd3-ab7b5bfec64f",
   "metadata": {},
   "outputs": [
    {
     "name": "stdin",
     "output_type": "stream",
     "text": [
      "Enter K:  3\n"
     ]
    },
    {
     "name": "stdout",
     "output_type": "stream",
     "text": [
      "[4, 5]\n"
     ]
    }
   ],
   "source": [
    "l1 = [1, 2,2, 3,3,3, 4,4,4,4, 5,5,5,5,5]\n",
    "k = int(input(\"Enter K: \"))\n",
    "\n",
    "def demo(l1 , k):\n",
    "    fre = {}\n",
    "\n",
    "    for i in l1:\n",
    "        if i in fre:\n",
    "            fre[i] += 1\n",
    "        else:\n",
    "            fre[i] = 1\n",
    "    \n",
    "    result = []\n",
    "\n",
    "    for j in fre:\n",
    "        if fre[j] > k:\n",
    "            result.append(j)\n",
    "\n",
    "    return result\n",
    "\n",
    "print(demo(l1, k))\n",
    "\n"
   ]
  },
  {
   "cell_type": "code",
   "execution_count": null,
   "id": "95faf7d2-d04a-4135-9cb1-5755b5d97f97",
   "metadata": {},
   "outputs": [],
   "source": []
  },
  {
   "cell_type": "code",
   "execution_count": 82,
   "id": "0a24d3cb-829f-4ff3-b690-d1d9904322d6",
   "metadata": {},
   "outputs": [
    {
     "name": "stdout",
     "output_type": "stream",
     "text": [
      "== True\n",
      "is  True\n"
     ]
    }
   ],
   "source": []
  },
  {
   "cell_type": "code",
   "execution_count": null,
   "id": "90441ba2-ef0e-483b-a765-459b961c4f19",
   "metadata": {},
   "outputs": [],
   "source": []
  }
 ],
 "metadata": {
  "kernelspec": {
   "display_name": "Python 3 (ipykernel)",
   "language": "python",
   "name": "python3"
  },
  "language_info": {
   "codemirror_mode": {
    "name": "ipython",
    "version": 3
   },
   "file_extension": ".py",
   "mimetype": "text/x-python",
   "name": "python",
   "nbconvert_exporter": "python",
   "pygments_lexer": "ipython3",
   "version": "3.12.4"
  }
 },
 "nbformat": 4,
 "nbformat_minor": 5
}
