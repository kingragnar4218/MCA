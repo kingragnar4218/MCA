{
 "cells": [
  {
   "cell_type": "markdown",
   "id": "96dcd693-6677-4cc4-a232-fb5dace03c7c",
   "metadata": {},
   "source": [
    "<a href='https://www.darshan.ac.in/'> <img src='https://www.darshan.ac.in/Content/media/DU_Logo.svg' width=\"150\" height=\"200\"/></a>\n",
    "<pre>\n",
    "<center><b><h2> Python for Data Science - 2305CS303 </b></center>\n",
    "<center><b><h2>Lab - 9</b></center>    \n",
    "<left><b><h3>Roll No. : 106</b></left>  \n",
    "<left><b><h3>Name : Ghorecha Harsh</b></left>   \n",
    "<pre>    "
   ]
  },
  {
   "cell_type": "markdown",
   "id": "01462159-2d5e-4006-abc6-294c56f3bd50",
   "metadata": {},
   "source": [
    "### 1. Create a Pandas Series containing names of 5 students."
   ]
  },
  {
   "cell_type": "code",
   "execution_count": 9,
   "id": "ef6095ee-17bb-431d-9213-1c2daaec77d9",
   "metadata": {},
   "outputs": [
    {
     "name": "stdout",
     "output_type": "stream",
     "text": [
      "0            Harsh\n",
      "1          Darshan\n",
      "2             udit\n",
      "3             daku\n",
      "4    chhota_mumbai\n",
      "dtype: object\n"
     ]
    }
   ],
   "source": [
    "import pandas as pd\n",
    "import numpy as np\n",
    "\n",
    "name =pd.Series(['Harsh','Darshan','udit','daku','chhota_mumbai'])\n",
    "print(name)"
   ]
  },
  {
   "cell_type": "markdown",
   "id": "675a5405-3a85-4acb-981f-e177816dd346",
   "metadata": {},
   "source": [
    "### 2. Create a Series with student roll numbers as index and their IAT scores as values.."
   ]
  },
  {
   "cell_type": "code",
   "execution_count": 11,
   "id": "7a27d309-9090-4aa7-99d6-25ee8b6dbca9",
   "metadata": {},
   "outputs": [
    {
     "data": {
      "text/plain": [
       "1    81\n",
       "2    59\n",
       "3    74\n",
       "4    75\n",
       "5    54\n",
       "dtype: int64"
      ]
     },
     "execution_count": 11,
     "metadata": {},
     "output_type": "execute_result"
    }
   ],
   "source": [
    "s1 = pd.Series(np.random.randint(50,99,5),np.arange(1,6))\n",
    "s1"
   ]
  },
  {
   "cell_type": "markdown",
   "id": "49ebf22b-cf7b-4d0d-8978-57edc0cda362",
   "metadata": {},
   "source": [
    "### 3. Create a time series (daily) from 2025-08-01 to 2025-08-10 representing attendance tracking for a student."
   ]
  },
  {
   "cell_type": "code",
   "execution_count": 13,
   "id": "e787cf49-effc-4d1b-8546-3ef751701cab",
   "metadata": {},
   "outputs": [
    {
     "data": {
      "text/plain": [
       "2025-08-01    P     \n",
       "2025-08-02         A\n",
       "2025-08-03         A\n",
       "2025-08-04         A\n",
       "2025-08-05         A\n",
       "2025-08-06    P     \n",
       "2025-08-07         A\n",
       "2025-08-08    P     \n",
       "2025-08-09    P     \n",
       "2025-08-10    P     \n",
       "Freq: D, dtype: object"
      ]
     },
     "execution_count": 13,
     "metadata": {},
     "output_type": "execute_result"
    }
   ],
   "source": [
    "dates = pd.date_range(start='2025-08-01', end='2025-08-10')\n",
    "attendance = pd.Series(np.random.choice(['P     ','A'], size = 10),dates)\n",
    "attendance\n"
   ]
  },
  {
   "cell_type": "markdown",
   "id": "08e8af17-4ef1-4734-8cdf-6f8d0675ff7e",
   "metadata": {},
   "source": [
    "### 4. Create a DataFrame for 10 students with the following columns: Roll No, Name, PDS, CA, CN, IAT.\n",
    "#### (Use NumPy random module to generate scores)"
   ]
  },
  {
   "cell_type": "code",
   "execution_count": 43,
   "id": "cdeedbc3-c526-441f-85a9-045360caa446",
   "metadata": {},
   "outputs": [
    {
     "data": {
      "text/html": [
       "<div>\n",
       "<style scoped>\n",
       "    .dataframe tbody tr th:only-of-type {\n",
       "        vertical-align: middle;\n",
       "    }\n",
       "\n",
       "    .dataframe tbody tr th {\n",
       "        vertical-align: top;\n",
       "    }\n",
       "\n",
       "    .dataframe thead th {\n",
       "        text-align: right;\n",
       "    }\n",
       "</style>\n",
       "<table border=\"1\" class=\"dataframe\">\n",
       "  <thead>\n",
       "    <tr style=\"text-align: right;\">\n",
       "      <th></th>\n",
       "      <th>Roll No</th>\n",
       "      <th>Name</th>\n",
       "      <th>PDS</th>\n",
       "      <th>CA</th>\n",
       "      <th>CN</th>\n",
       "      <th>IAT</th>\n",
       "    </tr>\n",
       "  </thead>\n",
       "  <tbody>\n",
       "    <tr>\n",
       "      <th>0</th>\n",
       "      <td>101</td>\n",
       "      <td>JAY</td>\n",
       "      <td>98</td>\n",
       "      <td>90</td>\n",
       "      <td>62</td>\n",
       "      <td>74</td>\n",
       "    </tr>\n",
       "    <tr>\n",
       "      <th>1</th>\n",
       "      <td>102</td>\n",
       "      <td>HARSH</td>\n",
       "      <td>69</td>\n",
       "      <td>89</td>\n",
       "      <td>85</td>\n",
       "      <td>62</td>\n",
       "    </tr>\n",
       "    <tr>\n",
       "      <th>2</th>\n",
       "      <td>103</td>\n",
       "      <td>HARSH</td>\n",
       "      <td>95</td>\n",
       "      <td>60</td>\n",
       "      <td>98</td>\n",
       "      <td>89</td>\n",
       "    </tr>\n",
       "    <tr>\n",
       "      <th>3</th>\n",
       "      <td>104</td>\n",
       "      <td>DARSHAN</td>\n",
       "      <td>66</td>\n",
       "      <td>78</td>\n",
       "      <td>60</td>\n",
       "      <td>96</td>\n",
       "    </tr>\n",
       "    <tr>\n",
       "      <th>4</th>\n",
       "      <td>105</td>\n",
       "      <td>NIKHIL</td>\n",
       "      <td>67</td>\n",
       "      <td>87</td>\n",
       "      <td>77</td>\n",
       "      <td>60</td>\n",
       "    </tr>\n",
       "    <tr>\n",
       "      <th>5</th>\n",
       "      <td>106</td>\n",
       "      <td>JAY</td>\n",
       "      <td>83</td>\n",
       "      <td>88</td>\n",
       "      <td>94</td>\n",
       "      <td>94</td>\n",
       "    </tr>\n",
       "    <tr>\n",
       "      <th>6</th>\n",
       "      <td>107</td>\n",
       "      <td>JAY</td>\n",
       "      <td>67</td>\n",
       "      <td>79</td>\n",
       "      <td>89</td>\n",
       "      <td>64</td>\n",
       "    </tr>\n",
       "    <tr>\n",
       "      <th>7</th>\n",
       "      <td>108</td>\n",
       "      <td>BAPUJI</td>\n",
       "      <td>71</td>\n",
       "      <td>92</td>\n",
       "      <td>84</td>\n",
       "      <td>70</td>\n",
       "    </tr>\n",
       "    <tr>\n",
       "      <th>8</th>\n",
       "      <td>109</td>\n",
       "      <td>NIKHIL</td>\n",
       "      <td>97</td>\n",
       "      <td>89</td>\n",
       "      <td>91</td>\n",
       "      <td>72</td>\n",
       "    </tr>\n",
       "    <tr>\n",
       "      <th>9</th>\n",
       "      <td>110</td>\n",
       "      <td>KAMO</td>\n",
       "      <td>74</td>\n",
       "      <td>61</td>\n",
       "      <td>72</td>\n",
       "      <td>83</td>\n",
       "    </tr>\n",
       "  </tbody>\n",
       "</table>\n",
       "</div>"
      ],
      "text/plain": [
       "   Roll No     Name  PDS  CA  CN  IAT\n",
       "0      101      JAY   98  90  62   74\n",
       "1      102    HARSH   69  89  85   62\n",
       "2      103    HARSH   95  60  98   89\n",
       "3      104  DARSHAN   66  78  60   96\n",
       "4      105   NIKHIL   67  87  77   60\n",
       "5      106      JAY   83  88  94   94\n",
       "6      107      JAY   67  79  89   64\n",
       "7      108   BAPUJI   71  92  84   70\n",
       "8      109   NIKHIL   97  89  91   72\n",
       "9      110     KAMO   74  61  72   83"
      ]
     },
     "execution_count": 43,
     "metadata": {},
     "output_type": "execute_result"
    }
   ],
   "source": [
    "rollno = np.arange(101, 111)\n",
    "name = pd.Series(np.random.choice(['HARSH','DARSHAN','UDIT','KAMO','UDAY','JAY','RONKO','YASH','NIKHIL','BAPUJI'],size = 10))\n",
    "pds = np.random.randint(60,100, size = 10)\n",
    "ca = np.random.randint(60,100, size = 10)\n",
    "cn = np.random.randint(60,100, size = 10)\n",
    "iat = np.random.randint(60,100, size = 10)\n",
    "\n",
    "df = pd.DataFrame({'Roll No': rollno, 'Name': name,'PDS': pds,'CA':ca,'CN':cn,'IAT':iat})\n",
    "\n",
    "df"
   ]
  },
  {
   "cell_type": "markdown",
   "id": "c2c54c21-abe2-439f-bc8e-5a43be7c5031",
   "metadata": {},
   "source": [
    "### 5. Display the first 3 rows of the DataFrame."
   ]
  },
  {
   "cell_type": "code",
   "execution_count": 17,
   "id": "97bac1f7-f69e-4ab4-9df4-aa392ced129a",
   "metadata": {},
   "outputs": [
    {
     "data": {
      "text/html": [
       "<div>\n",
       "<style scoped>\n",
       "    .dataframe tbody tr th:only-of-type {\n",
       "        vertical-align: middle;\n",
       "    }\n",
       "\n",
       "    .dataframe tbody tr th {\n",
       "        vertical-align: top;\n",
       "    }\n",
       "\n",
       "    .dataframe thead th {\n",
       "        text-align: right;\n",
       "    }\n",
       "</style>\n",
       "<table border=\"1\" class=\"dataframe\">\n",
       "  <thead>\n",
       "    <tr style=\"text-align: right;\">\n",
       "      <th></th>\n",
       "      <th>Roll No:</th>\n",
       "      <th>Name :</th>\n",
       "      <th>PDS:</th>\n",
       "      <th>CA :</th>\n",
       "      <th>CN :</th>\n",
       "      <th>IAT :</th>\n",
       "    </tr>\n",
       "  </thead>\n",
       "  <tbody>\n",
       "    <tr>\n",
       "      <th>0</th>\n",
       "      <td>101</td>\n",
       "      <td>DARSHAN</td>\n",
       "      <td>82</td>\n",
       "      <td>82</td>\n",
       "      <td>81</td>\n",
       "      <td>83</td>\n",
       "    </tr>\n",
       "    <tr>\n",
       "      <th>1</th>\n",
       "      <td>102</td>\n",
       "      <td>UDIT</td>\n",
       "      <td>77</td>\n",
       "      <td>83</td>\n",
       "      <td>74</td>\n",
       "      <td>91</td>\n",
       "    </tr>\n",
       "    <tr>\n",
       "      <th>2</th>\n",
       "      <td>103</td>\n",
       "      <td>UDAY</td>\n",
       "      <td>88</td>\n",
       "      <td>96</td>\n",
       "      <td>83</td>\n",
       "      <td>79</td>\n",
       "    </tr>\n",
       "  </tbody>\n",
       "</table>\n",
       "</div>"
      ],
      "text/plain": [
       "   Roll No:    Name :  PDS:   CA :  CN :  IAT :\n",
       "0        101  DARSHAN     82    82    81     83\n",
       "1        102     UDIT     77    83    74     91\n",
       "2        103     UDAY     88    96    83     79"
      ]
     },
     "execution_count": 17,
     "metadata": {},
     "output_type": "execute_result"
    }
   ],
   "source": [
    "df.head(3)"
   ]
  },
  {
   "cell_type": "markdown",
   "id": "29b8c7da-fe08-45eb-9e27-2c47ab1ec26f",
   "metadata": {},
   "source": [
    "### 6. Display the last 2 rows of the DataFrame."
   ]
  },
  {
   "cell_type": "code",
   "execution_count": 19,
   "id": "2e4dbdd6-d10b-4d08-9a4a-cb0acee96281",
   "metadata": {},
   "outputs": [
    {
     "data": {
      "text/html": [
       "<div>\n",
       "<style scoped>\n",
       "    .dataframe tbody tr th:only-of-type {\n",
       "        vertical-align: middle;\n",
       "    }\n",
       "\n",
       "    .dataframe tbody tr th {\n",
       "        vertical-align: top;\n",
       "    }\n",
       "\n",
       "    .dataframe thead th {\n",
       "        text-align: right;\n",
       "    }\n",
       "</style>\n",
       "<table border=\"1\" class=\"dataframe\">\n",
       "  <thead>\n",
       "    <tr style=\"text-align: right;\">\n",
       "      <th></th>\n",
       "      <th>Roll No:</th>\n",
       "      <th>Name :</th>\n",
       "      <th>PDS:</th>\n",
       "      <th>CA :</th>\n",
       "      <th>CN :</th>\n",
       "      <th>IAT :</th>\n",
       "    </tr>\n",
       "  </thead>\n",
       "  <tbody>\n",
       "    <tr>\n",
       "      <th>8</th>\n",
       "      <td>109</td>\n",
       "      <td>DARSHAN</td>\n",
       "      <td>72</td>\n",
       "      <td>63</td>\n",
       "      <td>98</td>\n",
       "      <td>85</td>\n",
       "    </tr>\n",
       "    <tr>\n",
       "      <th>9</th>\n",
       "      <td>110</td>\n",
       "      <td>UDIT</td>\n",
       "      <td>82</td>\n",
       "      <td>88</td>\n",
       "      <td>95</td>\n",
       "      <td>95</td>\n",
       "    </tr>\n",
       "  </tbody>\n",
       "</table>\n",
       "</div>"
      ],
      "text/plain": [
       "   Roll No:    Name :  PDS:   CA :  CN :  IAT :\n",
       "8        109  DARSHAN     72    63    98     85\n",
       "9        110     UDIT     82    88    95     95"
      ]
     },
     "execution_count": 19,
     "metadata": {},
     "output_type": "execute_result"
    }
   ],
   "source": [
    "df.tail(2)"
   ]
  },
  {
   "cell_type": "markdown",
   "id": "b76592c9-38ed-4b92-a0c4-9ed2a833bb53",
   "metadata": {},
   "source": [
    "### 7. Use .describe() to summarize the numeric data."
   ]
  },
  {
   "cell_type": "code",
   "execution_count": 21,
   "id": "d54030cb-ac22-43d1-b7c7-c8494cf59b13",
   "metadata": {},
   "outputs": [
    {
     "data": {
      "text/html": [
       "<div>\n",
       "<style scoped>\n",
       "    .dataframe tbody tr th:only-of-type {\n",
       "        vertical-align: middle;\n",
       "    }\n",
       "\n",
       "    .dataframe tbody tr th {\n",
       "        vertical-align: top;\n",
       "    }\n",
       "\n",
       "    .dataframe thead th {\n",
       "        text-align: right;\n",
       "    }\n",
       "</style>\n",
       "<table border=\"1\" class=\"dataframe\">\n",
       "  <thead>\n",
       "    <tr style=\"text-align: right;\">\n",
       "      <th></th>\n",
       "      <th>Roll No:</th>\n",
       "      <th>PDS:</th>\n",
       "      <th>CA :</th>\n",
       "      <th>CN :</th>\n",
       "      <th>IAT :</th>\n",
       "    </tr>\n",
       "  </thead>\n",
       "  <tbody>\n",
       "    <tr>\n",
       "      <th>count</th>\n",
       "      <td>10.00000</td>\n",
       "      <td>10.000000</td>\n",
       "      <td>10.000000</td>\n",
       "      <td>10.000000</td>\n",
       "      <td>10.00000</td>\n",
       "    </tr>\n",
       "    <tr>\n",
       "      <th>mean</th>\n",
       "      <td>105.50000</td>\n",
       "      <td>84.700000</td>\n",
       "      <td>78.600000</td>\n",
       "      <td>85.900000</td>\n",
       "      <td>84.70000</td>\n",
       "    </tr>\n",
       "    <tr>\n",
       "      <th>std</th>\n",
       "      <td>3.02765</td>\n",
       "      <td>11.935475</td>\n",
       "      <td>11.890239</td>\n",
       "      <td>10.795575</td>\n",
       "      <td>10.01166</td>\n",
       "    </tr>\n",
       "    <tr>\n",
       "      <th>min</th>\n",
       "      <td>101.00000</td>\n",
       "      <td>62.000000</td>\n",
       "      <td>63.000000</td>\n",
       "      <td>64.000000</td>\n",
       "      <td>68.00000</td>\n",
       "    </tr>\n",
       "    <tr>\n",
       "      <th>25%</th>\n",
       "      <td>103.25000</td>\n",
       "      <td>78.250000</td>\n",
       "      <td>69.250000</td>\n",
       "      <td>81.500000</td>\n",
       "      <td>79.75000</td>\n",
       "    </tr>\n",
       "    <tr>\n",
       "      <th>50%</th>\n",
       "      <td>105.50000</td>\n",
       "      <td>85.000000</td>\n",
       "      <td>78.500000</td>\n",
       "      <td>87.500000</td>\n",
       "      <td>84.00000</td>\n",
       "    </tr>\n",
       "    <tr>\n",
       "      <th>75%</th>\n",
       "      <td>107.75000</td>\n",
       "      <td>94.750000</td>\n",
       "      <td>86.750000</td>\n",
       "      <td>94.750000</td>\n",
       "      <td>92.50000</td>\n",
       "    </tr>\n",
       "    <tr>\n",
       "      <th>max</th>\n",
       "      <td>110.00000</td>\n",
       "      <td>98.000000</td>\n",
       "      <td>96.000000</td>\n",
       "      <td>98.000000</td>\n",
       "      <td>99.00000</td>\n",
       "    </tr>\n",
       "  </tbody>\n",
       "</table>\n",
       "</div>"
      ],
      "text/plain": [
       "       Roll No:       PDS:        CA :       CN :     IAT :\n",
       "count   10.00000  10.000000  10.000000  10.000000  10.00000\n",
       "mean   105.50000  84.700000  78.600000  85.900000  84.70000\n",
       "std      3.02765  11.935475  11.890239  10.795575  10.01166\n",
       "min    101.00000  62.000000  63.000000  64.000000  68.00000\n",
       "25%    103.25000  78.250000  69.250000  81.500000  79.75000\n",
       "50%    105.50000  85.000000  78.500000  87.500000  84.00000\n",
       "75%    107.75000  94.750000  86.750000  94.750000  92.50000\n",
       "max    110.00000  98.000000  96.000000  98.000000  99.00000"
      ]
     },
     "execution_count": 21,
     "metadata": {},
     "output_type": "execute_result"
    }
   ],
   "source": [
    "df.describe()"
   ]
  },
  {
   "cell_type": "markdown",
   "id": "ddf54203-47cb-425c-b118-3318148c2571",
   "metadata": {},
   "source": [
    "### 8. Select only the Name column."
   ]
  },
  {
   "cell_type": "code",
   "execution_count": 37,
   "id": "75b79085-18d5-41cf-b6f2-fe1c659b5eef",
   "metadata": {},
   "outputs": [
    {
     "data": {
      "text/plain": [
       "0       KAMO\n",
       "1      RONKO\n",
       "2        JAY\n",
       "3       KAMO\n",
       "4    DARSHAN\n",
       "5     NIKHIL\n",
       "6     NIKHIL\n",
       "7      HARSH\n",
       "8       KAMO\n",
       "9        JAY\n",
       "Name: Name, dtype: object"
      ]
     },
     "execution_count": 37,
     "metadata": {},
     "output_type": "execute_result"
    }
   ],
   "source": [
    "df.Name"
   ]
  },
  {
   "cell_type": "markdown",
   "id": "f6a3191f-3348-4ba0-9222-cd560e7a734a",
   "metadata": {},
   "source": [
    "### 9. Select the columns PDS, CN, and IAT."
   ]
  },
  {
   "cell_type": "code",
   "execution_count": 45,
   "id": "ecd23840-7d27-4a0d-8d44-7c6d1fa26b72",
   "metadata": {},
   "outputs": [
    {
     "data": {
      "text/html": [
       "<div>\n",
       "<style scoped>\n",
       "    .dataframe tbody tr th:only-of-type {\n",
       "        vertical-align: middle;\n",
       "    }\n",
       "\n",
       "    .dataframe tbody tr th {\n",
       "        vertical-align: top;\n",
       "    }\n",
       "\n",
       "    .dataframe thead th {\n",
       "        text-align: right;\n",
       "    }\n",
       "</style>\n",
       "<table border=\"1\" class=\"dataframe\">\n",
       "  <thead>\n",
       "    <tr style=\"text-align: right;\">\n",
       "      <th></th>\n",
       "      <th>PDS</th>\n",
       "      <th>CN</th>\n",
       "      <th>IAT</th>\n",
       "    </tr>\n",
       "  </thead>\n",
       "  <tbody>\n",
       "    <tr>\n",
       "      <th>0</th>\n",
       "      <td>98</td>\n",
       "      <td>62</td>\n",
       "      <td>74</td>\n",
       "    </tr>\n",
       "    <tr>\n",
       "      <th>1</th>\n",
       "      <td>69</td>\n",
       "      <td>85</td>\n",
       "      <td>62</td>\n",
       "    </tr>\n",
       "    <tr>\n",
       "      <th>2</th>\n",
       "      <td>95</td>\n",
       "      <td>98</td>\n",
       "      <td>89</td>\n",
       "    </tr>\n",
       "    <tr>\n",
       "      <th>3</th>\n",
       "      <td>66</td>\n",
       "      <td>60</td>\n",
       "      <td>96</td>\n",
       "    </tr>\n",
       "    <tr>\n",
       "      <th>4</th>\n",
       "      <td>67</td>\n",
       "      <td>77</td>\n",
       "      <td>60</td>\n",
       "    </tr>\n",
       "    <tr>\n",
       "      <th>5</th>\n",
       "      <td>83</td>\n",
       "      <td>94</td>\n",
       "      <td>94</td>\n",
       "    </tr>\n",
       "    <tr>\n",
       "      <th>6</th>\n",
       "      <td>67</td>\n",
       "      <td>89</td>\n",
       "      <td>64</td>\n",
       "    </tr>\n",
       "    <tr>\n",
       "      <th>7</th>\n",
       "      <td>71</td>\n",
       "      <td>84</td>\n",
       "      <td>70</td>\n",
       "    </tr>\n",
       "    <tr>\n",
       "      <th>8</th>\n",
       "      <td>97</td>\n",
       "      <td>91</td>\n",
       "      <td>72</td>\n",
       "    </tr>\n",
       "    <tr>\n",
       "      <th>9</th>\n",
       "      <td>74</td>\n",
       "      <td>72</td>\n",
       "      <td>83</td>\n",
       "    </tr>\n",
       "  </tbody>\n",
       "</table>\n",
       "</div>"
      ],
      "text/plain": [
       "   PDS  CN  IAT\n",
       "0   98  62   74\n",
       "1   69  85   62\n",
       "2   95  98   89\n",
       "3   66  60   96\n",
       "4   67  77   60\n",
       "5   83  94   94\n",
       "6   67  89   64\n",
       "7   71  84   70\n",
       "8   97  91   72\n",
       "9   74  72   83"
      ]
     },
     "execution_count": 45,
     "metadata": {},
     "output_type": "execute_result"
    }
   ],
   "source": [
    "df[['PDS','CN','IAT']]"
   ]
  },
  {
   "cell_type": "markdown",
   "id": "a90ecdf6-9f21-4b25-ace0-6083c311dddf",
   "metadata": {},
   "source": [
    "### 10. Select the row with Roll No = 105 using loc.\n"
   ]
  },
  {
   "cell_type": "code",
   "execution_count": 61,
   "id": "cb16a8ae-2d76-4e3c-8fac-ce9583e77ecf",
   "metadata": {},
   "outputs": [
    {
     "data": {
      "text/plain": [
       "Roll No       105\n",
       "Name       NIKHIL\n",
       "PDS            67\n",
       "CA             87\n",
       "CN             77\n",
       "IAT            60\n",
       "Name: 4, dtype: object"
      ]
     },
     "execution_count": 61,
     "metadata": {},
     "output_type": "execute_result"
    }
   ],
   "source": [
    "df.loc[4]"
   ]
  },
  {
   "cell_type": "markdown",
   "id": "e7b02e28-8b48-4644-8451-160e19cc5873",
   "metadata": {},
   "source": [
    "### 11. Select the 4th row using iloc."
   ]
  },
  {
   "cell_type": "code",
   "execution_count": 63,
   "id": "104f1bb6-0725-4187-aaa2-ce4f9ec6ff81",
   "metadata": {},
   "outputs": [
    {
     "data": {
      "text/plain": [
       "Roll No        104\n",
       "Name       DARSHAN\n",
       "PDS             66\n",
       "CA              78\n",
       "CN              60\n",
       "IAT             96\n",
       "Name: 3, dtype: object"
      ]
     },
     "execution_count": 63,
     "metadata": {},
     "output_type": "execute_result"
    }
   ],
   "source": [
    "df.loc[3]"
   ]
  },
  {
   "cell_type": "markdown",
   "id": "940463e7-3ef5-47eb-b206-37822161d9a8",
   "metadata": {},
   "source": [
    "### 12. Select students with marks in PDS > 80."
   ]
  },
  {
   "cell_type": "code",
   "execution_count": 69,
   "id": "7d493bed-10d9-4544-bcd3-ab7b5bfec64f",
   "metadata": {},
   "outputs": [
    {
     "data": {
      "text/html": [
       "<div>\n",
       "<style scoped>\n",
       "    .dataframe tbody tr th:only-of-type {\n",
       "        vertical-align: middle;\n",
       "    }\n",
       "\n",
       "    .dataframe tbody tr th {\n",
       "        vertical-align: top;\n",
       "    }\n",
       "\n",
       "    .dataframe thead th {\n",
       "        text-align: right;\n",
       "    }\n",
       "</style>\n",
       "<table border=\"1\" class=\"dataframe\">\n",
       "  <thead>\n",
       "    <tr style=\"text-align: right;\">\n",
       "      <th></th>\n",
       "      <th>Roll No</th>\n",
       "      <th>Name</th>\n",
       "      <th>PDS</th>\n",
       "      <th>CA</th>\n",
       "      <th>CN</th>\n",
       "      <th>IAT</th>\n",
       "    </tr>\n",
       "  </thead>\n",
       "  <tbody>\n",
       "    <tr>\n",
       "      <th>0</th>\n",
       "      <td>101</td>\n",
       "      <td>JAY</td>\n",
       "      <td>98</td>\n",
       "      <td>90</td>\n",
       "      <td>62</td>\n",
       "      <td>74</td>\n",
       "    </tr>\n",
       "    <tr>\n",
       "      <th>2</th>\n",
       "      <td>103</td>\n",
       "      <td>HARSH</td>\n",
       "      <td>95</td>\n",
       "      <td>60</td>\n",
       "      <td>98</td>\n",
       "      <td>89</td>\n",
       "    </tr>\n",
       "    <tr>\n",
       "      <th>5</th>\n",
       "      <td>106</td>\n",
       "      <td>JAY</td>\n",
       "      <td>83</td>\n",
       "      <td>88</td>\n",
       "      <td>94</td>\n",
       "      <td>94</td>\n",
       "    </tr>\n",
       "    <tr>\n",
       "      <th>8</th>\n",
       "      <td>109</td>\n",
       "      <td>NIKHIL</td>\n",
       "      <td>97</td>\n",
       "      <td>89</td>\n",
       "      <td>91</td>\n",
       "      <td>72</td>\n",
       "    </tr>\n",
       "  </tbody>\n",
       "</table>\n",
       "</div>"
      ],
      "text/plain": [
       "   Roll No    Name  PDS  CA  CN  IAT\n",
       "0      101     JAY   98  90  62   74\n",
       "2      103   HARSH   95  60  98   89\n",
       "5      106     JAY   83  88  94   94\n",
       "8      109  NIKHIL   97  89  91   72"
      ]
     },
     "execution_count": 69,
     "metadata": {},
     "output_type": "execute_result"
    }
   ],
   "source": [
    " df[df['PDS'] > 80]"
   ]
  },
  {
   "cell_type": "markdown",
   "id": "1381be74-c739-4773-8248-5077b6d4fcd9",
   "metadata": {},
   "source": [
    "### 13. Select students with marks in CA < 70. "
   ]
  },
  {
   "cell_type": "code",
   "execution_count": 73,
   "id": "b01f3692-ae72-48bb-a019-64cb4f67b0fe",
   "metadata": {},
   "outputs": [
    {
     "data": {
      "text/html": [
       "<div>\n",
       "<style scoped>\n",
       "    .dataframe tbody tr th:only-of-type {\n",
       "        vertical-align: middle;\n",
       "    }\n",
       "\n",
       "    .dataframe tbody tr th {\n",
       "        vertical-align: top;\n",
       "    }\n",
       "\n",
       "    .dataframe thead th {\n",
       "        text-align: right;\n",
       "    }\n",
       "</style>\n",
       "<table border=\"1\" class=\"dataframe\">\n",
       "  <thead>\n",
       "    <tr style=\"text-align: right;\">\n",
       "      <th></th>\n",
       "      <th>Roll No</th>\n",
       "      <th>Name</th>\n",
       "      <th>PDS</th>\n",
       "      <th>CA</th>\n",
       "      <th>CN</th>\n",
       "      <th>IAT</th>\n",
       "    </tr>\n",
       "  </thead>\n",
       "  <tbody>\n",
       "    <tr>\n",
       "      <th>2</th>\n",
       "      <td>103</td>\n",
       "      <td>HARSH</td>\n",
       "      <td>95</td>\n",
       "      <td>60</td>\n",
       "      <td>98</td>\n",
       "      <td>89</td>\n",
       "    </tr>\n",
       "    <tr>\n",
       "      <th>9</th>\n",
       "      <td>110</td>\n",
       "      <td>KAMO</td>\n",
       "      <td>74</td>\n",
       "      <td>61</td>\n",
       "      <td>72</td>\n",
       "      <td>83</td>\n",
       "    </tr>\n",
       "  </tbody>\n",
       "</table>\n",
       "</div>"
      ],
      "text/plain": [
       "   Roll No   Name  PDS  CA  CN  IAT\n",
       "2      103  HARSH   95  60  98   89\n",
       "9      110   KAMO   74  61  72   83"
      ]
     },
     "execution_count": 73,
     "metadata": {},
     "output_type": "execute_result"
    }
   ],
   "source": [
    "df[df['CA']<70]"
   ]
  },
  {
   "cell_type": "markdown",
   "id": "a83dd20a-efd2-4421-94c2-917009b61b07",
   "metadata": {},
   "source": [
    "### 14. Select students with marks in CN > 85 and PDS > 80"
   ]
  },
  {
   "cell_type": "code",
   "execution_count": 77,
   "id": "911f90a5-79a3-4bac-9fed-8f1cb8f5c7fd",
   "metadata": {},
   "outputs": [
    {
     "data": {
      "text/html": [
       "<div>\n",
       "<style scoped>\n",
       "    .dataframe tbody tr th:only-of-type {\n",
       "        vertical-align: middle;\n",
       "    }\n",
       "\n",
       "    .dataframe tbody tr th {\n",
       "        vertical-align: top;\n",
       "    }\n",
       "\n",
       "    .dataframe thead th {\n",
       "        text-align: right;\n",
       "    }\n",
       "</style>\n",
       "<table border=\"1\" class=\"dataframe\">\n",
       "  <thead>\n",
       "    <tr style=\"text-align: right;\">\n",
       "      <th></th>\n",
       "      <th>Roll No</th>\n",
       "      <th>Name</th>\n",
       "      <th>PDS</th>\n",
       "      <th>CA</th>\n",
       "      <th>CN</th>\n",
       "      <th>IAT</th>\n",
       "    </tr>\n",
       "  </thead>\n",
       "  <tbody>\n",
       "    <tr>\n",
       "      <th>2</th>\n",
       "      <td>103</td>\n",
       "      <td>HARSH</td>\n",
       "      <td>95</td>\n",
       "      <td>60</td>\n",
       "      <td>98</td>\n",
       "      <td>89</td>\n",
       "    </tr>\n",
       "    <tr>\n",
       "      <th>5</th>\n",
       "      <td>106</td>\n",
       "      <td>JAY</td>\n",
       "      <td>83</td>\n",
       "      <td>88</td>\n",
       "      <td>94</td>\n",
       "      <td>94</td>\n",
       "    </tr>\n",
       "    <tr>\n",
       "      <th>8</th>\n",
       "      <td>109</td>\n",
       "      <td>NIKHIL</td>\n",
       "      <td>97</td>\n",
       "      <td>89</td>\n",
       "      <td>91</td>\n",
       "      <td>72</td>\n",
       "    </tr>\n",
       "  </tbody>\n",
       "</table>\n",
       "</div>"
      ],
      "text/plain": [
       "   Roll No    Name  PDS  CA  CN  IAT\n",
       "2      103   HARSH   95  60  98   89\n",
       "5      106     JAY   83  88  94   94\n",
       "8      109  NIKHIL   97  89  91   72"
      ]
     },
     "execution_count": 77,
     "metadata": {},
     "output_type": "execute_result"
    }
   ],
   "source": [
    "df[(df['CN']>85) & (df['PDS']>80)]"
   ]
  },
  {
   "cell_type": "markdown",
   "id": "02af34d1-be8a-4536-b329-7628391bd3ea",
   "metadata": {},
   "source": [
    "### 15. Add a new column Total Marks = PDS + CA + CN + IAT."
   ]
  },
  {
   "cell_type": "code",
   "execution_count": 83,
   "id": "5ce24a7a-5766-4ec6-a230-a006742a81bf",
   "metadata": {},
   "outputs": [
    {
     "data": {
      "text/html": [
       "<div>\n",
       "<style scoped>\n",
       "    .dataframe tbody tr th:only-of-type {\n",
       "        vertical-align: middle;\n",
       "    }\n",
       "\n",
       "    .dataframe tbody tr th {\n",
       "        vertical-align: top;\n",
       "    }\n",
       "\n",
       "    .dataframe thead th {\n",
       "        text-align: right;\n",
       "    }\n",
       "</style>\n",
       "<table border=\"1\" class=\"dataframe\">\n",
       "  <thead>\n",
       "    <tr style=\"text-align: right;\">\n",
       "      <th></th>\n",
       "      <th>Roll No</th>\n",
       "      <th>Name</th>\n",
       "      <th>PDS</th>\n",
       "      <th>CA</th>\n",
       "      <th>CN</th>\n",
       "      <th>IAT</th>\n",
       "      <th>Total Marks</th>\n",
       "    </tr>\n",
       "  </thead>\n",
       "  <tbody>\n",
       "    <tr>\n",
       "      <th>0</th>\n",
       "      <td>101</td>\n",
       "      <td>JAY</td>\n",
       "      <td>98</td>\n",
       "      <td>90</td>\n",
       "      <td>62</td>\n",
       "      <td>74</td>\n",
       "      <td>324</td>\n",
       "    </tr>\n",
       "    <tr>\n",
       "      <th>1</th>\n",
       "      <td>102</td>\n",
       "      <td>HARSH</td>\n",
       "      <td>69</td>\n",
       "      <td>89</td>\n",
       "      <td>85</td>\n",
       "      <td>62</td>\n",
       "      <td>305</td>\n",
       "    </tr>\n",
       "    <tr>\n",
       "      <th>2</th>\n",
       "      <td>103</td>\n",
       "      <td>HARSH</td>\n",
       "      <td>95</td>\n",
       "      <td>60</td>\n",
       "      <td>98</td>\n",
       "      <td>89</td>\n",
       "      <td>342</td>\n",
       "    </tr>\n",
       "    <tr>\n",
       "      <th>3</th>\n",
       "      <td>104</td>\n",
       "      <td>DARSHAN</td>\n",
       "      <td>66</td>\n",
       "      <td>78</td>\n",
       "      <td>60</td>\n",
       "      <td>96</td>\n",
       "      <td>300</td>\n",
       "    </tr>\n",
       "    <tr>\n",
       "      <th>4</th>\n",
       "      <td>105</td>\n",
       "      <td>NIKHIL</td>\n",
       "      <td>67</td>\n",
       "      <td>87</td>\n",
       "      <td>77</td>\n",
       "      <td>60</td>\n",
       "      <td>291</td>\n",
       "    </tr>\n",
       "    <tr>\n",
       "      <th>5</th>\n",
       "      <td>106</td>\n",
       "      <td>JAY</td>\n",
       "      <td>83</td>\n",
       "      <td>88</td>\n",
       "      <td>94</td>\n",
       "      <td>94</td>\n",
       "      <td>359</td>\n",
       "    </tr>\n",
       "    <tr>\n",
       "      <th>6</th>\n",
       "      <td>107</td>\n",
       "      <td>JAY</td>\n",
       "      <td>67</td>\n",
       "      <td>79</td>\n",
       "      <td>89</td>\n",
       "      <td>64</td>\n",
       "      <td>299</td>\n",
       "    </tr>\n",
       "    <tr>\n",
       "      <th>7</th>\n",
       "      <td>108</td>\n",
       "      <td>BAPUJI</td>\n",
       "      <td>71</td>\n",
       "      <td>92</td>\n",
       "      <td>84</td>\n",
       "      <td>70</td>\n",
       "      <td>317</td>\n",
       "    </tr>\n",
       "    <tr>\n",
       "      <th>8</th>\n",
       "      <td>109</td>\n",
       "      <td>NIKHIL</td>\n",
       "      <td>97</td>\n",
       "      <td>89</td>\n",
       "      <td>91</td>\n",
       "      <td>72</td>\n",
       "      <td>349</td>\n",
       "    </tr>\n",
       "    <tr>\n",
       "      <th>9</th>\n",
       "      <td>110</td>\n",
       "      <td>KAMO</td>\n",
       "      <td>74</td>\n",
       "      <td>61</td>\n",
       "      <td>72</td>\n",
       "      <td>83</td>\n",
       "      <td>290</td>\n",
       "    </tr>\n",
       "  </tbody>\n",
       "</table>\n",
       "</div>"
      ],
      "text/plain": [
       "   Roll No     Name  PDS  CA  CN  IAT  Total Marks\n",
       "0      101      JAY   98  90  62   74          324\n",
       "1      102    HARSH   69  89  85   62          305\n",
       "2      103    HARSH   95  60  98   89          342\n",
       "3      104  DARSHAN   66  78  60   96          300\n",
       "4      105   NIKHIL   67  87  77   60          291\n",
       "5      106      JAY   83  88  94   94          359\n",
       "6      107      JAY   67  79  89   64          299\n",
       "7      108   BAPUJI   71  92  84   70          317\n",
       "8      109   NIKHIL   97  89  91   72          349\n",
       "9      110     KAMO   74  61  72   83          290"
      ]
     },
     "execution_count": 83,
     "metadata": {},
     "output_type": "execute_result"
    }
   ],
   "source": [
    "df['Total Marks'] = df['PDS'] + df['CA'] + df['CN'] + df['IAT']\n",
    "df"
   ]
  },
  {
   "cell_type": "markdown",
   "id": "5d38c8d8-4ce6-4088-a1c7-dff745280b7d",
   "metadata": {},
   "source": [
    "### 16. Create a new DataFrame of students with Total Marks > 320."
   ]
  },
  {
   "cell_type": "code",
   "execution_count": 93,
   "id": "269faf07-cae6-4c92-a14d-7b44ef6b27f7",
   "metadata": {},
   "outputs": [
    {
     "data": {
      "text/html": [
       "<div>\n",
       "<style scoped>\n",
       "    .dataframe tbody tr th:only-of-type {\n",
       "        vertical-align: middle;\n",
       "    }\n",
       "\n",
       "    .dataframe tbody tr th {\n",
       "        vertical-align: top;\n",
       "    }\n",
       "\n",
       "    .dataframe thead th {\n",
       "        text-align: right;\n",
       "    }\n",
       "</style>\n",
       "<table border=\"1\" class=\"dataframe\">\n",
       "  <thead>\n",
       "    <tr style=\"text-align: right;\">\n",
       "      <th></th>\n",
       "      <th>Roll No</th>\n",
       "      <th>Name</th>\n",
       "      <th>PDS</th>\n",
       "      <th>CA</th>\n",
       "      <th>CN</th>\n",
       "      <th>IAT</th>\n",
       "      <th>Total Marks</th>\n",
       "    </tr>\n",
       "  </thead>\n",
       "  <tbody>\n",
       "    <tr>\n",
       "      <th>0</th>\n",
       "      <td>101</td>\n",
       "      <td>JAY</td>\n",
       "      <td>98</td>\n",
       "      <td>90</td>\n",
       "      <td>62</td>\n",
       "      <td>74</td>\n",
       "      <td>324</td>\n",
       "    </tr>\n",
       "    <tr>\n",
       "      <th>2</th>\n",
       "      <td>103</td>\n",
       "      <td>HARSH</td>\n",
       "      <td>95</td>\n",
       "      <td>60</td>\n",
       "      <td>98</td>\n",
       "      <td>89</td>\n",
       "      <td>342</td>\n",
       "    </tr>\n",
       "    <tr>\n",
       "      <th>5</th>\n",
       "      <td>106</td>\n",
       "      <td>JAY</td>\n",
       "      <td>83</td>\n",
       "      <td>88</td>\n",
       "      <td>94</td>\n",
       "      <td>94</td>\n",
       "      <td>359</td>\n",
       "    </tr>\n",
       "    <tr>\n",
       "      <th>8</th>\n",
       "      <td>109</td>\n",
       "      <td>NIKHIL</td>\n",
       "      <td>97</td>\n",
       "      <td>89</td>\n",
       "      <td>91</td>\n",
       "      <td>72</td>\n",
       "      <td>349</td>\n",
       "    </tr>\n",
       "  </tbody>\n",
       "</table>\n",
       "</div>"
      ],
      "text/plain": [
       "   Roll No    Name  PDS  CA  CN  IAT  Total Marks\n",
       "0      101     JAY   98  90  62   74          324\n",
       "2      103   HARSH   95  60  98   89          342\n",
       "5      106     JAY   83  88  94   94          359\n",
       "8      109  NIKHIL   97  89  91   72          349"
      ]
     },
     "execution_count": 93,
     "metadata": {},
     "output_type": "execute_result"
    }
   ],
   "source": [
    "df1= df[df['Total Marks'] > 320]\n",
    "df1"
   ]
  },
  {
   "cell_type": "code",
   "execution_count": null,
   "id": "4df977e0-2dcd-49dd-9ab3-e39dc96edd20",
   "metadata": {},
   "outputs": [],
   "source": []
  }
 ],
 "metadata": {
  "kernelspec": {
   "display_name": "Python 3 (ipykernel)",
   "language": "python",
   "name": "python3"
  },
  "language_info": {
   "codemirror_mode": {
    "name": "ipython",
    "version": 3
   },
   "file_extension": ".py",
   "mimetype": "text/x-python",
   "name": "python",
   "nbconvert_exporter": "python",
   "pygments_lexer": "ipython3",
   "version": "3.12.4"
  }
 },
 "nbformat": 4,
 "nbformat_minor": 5
}
